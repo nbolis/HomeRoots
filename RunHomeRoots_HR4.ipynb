{
 "cells": [
  {
   "cell_type": "code",
   "execution_count": 1,
   "metadata": {},
   "outputs": [],
   "source": [
    "import os, sys\n",
    "import numpy as np\n",
    "import pandas as pd\n",
    "import json\n",
    "import matplotlib.pyplot as plt\n",
    "import pickle\n",
    "import sklearn\n",
    "from sklearn.ensemble import RandomForestRegressor\n",
    "sys.path.append(os.path.abspath('../SRC'))\n",
    "from HomeRoots import HomeRoots"
   ]
  },
  {
   "cell_type": "markdown",
   "metadata": {},
   "source": [
    "#### Data for prediction test"
   ]
  },
  {
   "cell_type": "code",
   "execution_count": 2,
   "metadata": {},
   "outputs": [],
   "source": [
    "datafortest = pd.read_csv('../data/merged_data/cropweachard.csv')"
   ]
  },
  {
   "cell_type": "code",
   "execution_count": 3,
   "metadata": {},
   "outputs": [],
   "source": [
    "weather_features = ['mintempC', 'maxtempC', 'sunHour', 'cloudcover', 'humidity', \n",
    "                        'precipMM', 'pressure', 'windspeedKmph', 'quant_per_tot']"
   ]
  },
  {
   "cell_type": "code",
   "execution_count": 4,
   "metadata": {},
   "outputs": [
    {
     "data": {
      "text/plain": [
       "array([[-4.32258064516129, 1.7741935483870968, 6.138709677419352,\n",
       "        51.45161290322582, 74.61290322580646, 2.0064516129032257,\n",
       "        1019.3548387096774, 8.612903225806452, 0.0033603852980096023]],\n",
       "      dtype=object)"
      ]
     },
     "execution_count": 4,
     "metadata": {},
     "output_type": "execute_result"
    }
   ],
   "source": [
    "test = datafortest.iloc[2][weather_features].to_numpy().reshape(1,-1)\n",
    "test2 = datafortest.iloc[12][weather_features].to_numpy().reshape(1,-1)\n",
    "test2"
   ]
  },
  {
   "cell_type": "markdown",
   "metadata": {},
   "source": [
    "Crop categories"
   ]
  },
  {
   "cell_type": "code",
   "execution_count": 5,
   "metadata": {},
   "outputs": [],
   "source": [
    "vegetable = ['amaranth', 'arugula','asparagus', 'peppers','beans','beetroot', 'peas',\n",
    "       'bok choy', 'gourd','broccoli', 'fennel','brussels sprouts', 'squash', 'cabbage', \n",
    "       'carrots', 'celery', 'chard', 'tomato', 'collards', 'corn',  'cucumbers','kale',\n",
    "       'eggplant','garlic', 'lettuce', 'radish', 'jalapenos',\n",
    "       'kohlrabi', 'leeks','okra', 'onion','potatoes', 'pumpkin', 'spinach', 'sweet potato',\n",
    "       'taro', 'tomatillos', 'turnip','zucchini', 'artichoke', 'callaloo']"
   ]
  },
  {
   "cell_type": "code",
   "execution_count": 6,
   "metadata": {},
   "outputs": [],
   "source": [
    "fruit = [ 'apples', 'blackberries',\n",
    "       'cantaloupe','cherries','figs','grapes', 'ground cherry',\n",
    "        'melon','mulberry', 'peaches', 'pear', 'plums', 'raspberry',\n",
    "       'rhubarb','strawberry']"
   ]
  },
  {
   "cell_type": "code",
   "execution_count": 7,
   "metadata": {},
   "outputs": [],
   "source": [
    "herbs=[ 'basil', 'chives', 'cilantro', 'dill', 'epazote',\n",
    "     'lemon balm', 'mint', 'mustard', 'oregano', 'parsley', 'rosemary',\n",
    "        'sage', 'scallions',  'shiso',\n",
    "       'tarragon', 'thyme']"
   ]
  },
  {
   "cell_type": "code",
   "execution_count": 8,
   "metadata": {},
   "outputs": [],
   "source": [
    "flowers=['borage', 'calendula', 'chamomile', 'dandelion',\n",
    "        'lavender',  'marigolds','nasturtium', 'rue']   #most of the flowers had too few data points to be used so i will drop them"
   ]
  },
  {
   "cell_type": "markdown",
   "metadata": {},
   "source": [
    "#### Functions for model comparison"
   ]
  },
  {
   "cell_type": "code",
   "execution_count": null,
   "metadata": {},
   "outputs": [],
   "source": [
    "def predicted_actual_plot(df_pred):\n",
    "    plt.rcParams['figure.figsize']=(20,5)\n",
    "    plt.title('Predicted vs Actual Values RF Regression')\n",
    "    plt.plot(df_pred['Actual'], marker = '.', color = 'blue', label = 'Actual')\n",
    "    plt.plot(df_pred['Predicted'], marker = '.', color = 'red', label = 'Predicted')\n",
    "    plt.legend()\n",
    "    plt.savefig('peppersRF.png')\n",
    "    plt.show()"
   ]
  },
  {
   "cell_type": "code",
   "execution_count": null,
   "metadata": {},
   "outputs": [],
   "source": [
    "def error_plots(cv_result):\n",
    "    plt.rcParams['figure.figsize']=(20,5)\n",
    "    plt.title('Error Metricts')\n",
    "    plt.plot(cv_result[0], color = 'red', label = 'mae')\n",
    "    plt.plot(cv_result[1], color = 'blue', label = 'mse')\n",
    "    plt.plot(cv_result[2], color = 'cyan', label = 'rmse')\n",
    "    plt.legend()\n",
    "    plt.show()\n",
    "    "
   ]
  },
  {
   "cell_type": "code",
   "execution_count": null,
   "metadata": {},
   "outputs": [],
   "source": [
    "def crop_compare(model_choose, ne, maxd, sc):   #only for location dependent split but with scaled/unscaled choice \n",
    "    dict_dep = {}\n",
    "    dict_dep2 = {}\n",
    "    for veg in vegetable:\n",
    "        myroot =   HomeRoots(veg, split='location_dependent', percent=0.2, is_scaled=sc)\n",
    "        df_pred = myroot.group_cv(model=model_choose, n_estim=ne, max_d=maxd)\n",
    "        dict_dep[veg] = df_pred[3]\n",
    "        dict_dep2[veg] = df_pred[4]\n",
    "    return dict_dep, dict_dep2"
   ]
  },
  {
   "cell_type": "code",
   "execution_count": null,
   "metadata": {},
   "outputs": [],
   "source": [
    "def compare_models(myroot1, myroot2, myroot3, myroot4, model1, model2, model3, model4, n_estim1, n_estim2, n_estim3, maxd1, maxd2, maxd3):\n",
    "    df_pred_cv1 = myroot1.group_cv(model=model1, n_estim=n_estim1, max_d = maxd1)\n",
    "    df_pred_cv2 = myroot2.group_cv(model=model2, n_estim=n_estim2, max_d = maxd2)\n",
    "    df_pred_cv3 = myroot3.group_cv(model=model3, n_estim=n_estim3, max_d = maxd3)\n",
    "    df_pred_cv4 = myroot4.group_cv(model=model4)\n",
    "    plt.rcParams['figure.figsize']=(20,5)\n",
    "    plt.title('Error Metricts')\n",
    "    plt.plot(df_pred_cv1[1], color = 'green', label = f'mse-{model1}-$n_e${n_estim1}-$m_d${maxd1}-tomato')\n",
    "    plt.plot(df_pred_cv2[1], color = 'red', label = f'mse-{model2}-$n_e${n_estim2}-$m_d${maxd2}-pepper')\n",
    "    plt.plot(df_pred_cv3[1], color = 'blue', label = f'mse-{model3}-tomato')\n",
    "    plt.plot(df_pred_cv4[1], color = 'orange', label = f'mse-{model4}-pepper')\n",
    "    \n",
    "    plt.legend()\n",
    "    plt.show()"
   ]
  },
  {
   "cell_type": "code",
   "execution_count": null,
   "metadata": {},
   "outputs": [],
   "source": []
  },
  {
   "cell_type": "markdown",
   "metadata": {},
   "source": [
    "## Model comparison"
   ]
  },
  {
   "cell_type": "code",
   "execution_count": null,
   "metadata": {},
   "outputs": [],
   "source": [
    "myroot_peppers_dep = HomeRoots('peppers', split='location_dependent', percent=0.2, scaled = True)\n",
    "myroot_collards_dep = HomeRoots('collards', split='location_dependent', percent=0.2, scaled = True)\n",
    "myroot_lettuce_dep = HomeRoots('lettuce', split='location_dependent', percent=0.2, scaled = True)"
   ]
  },
  {
   "cell_type": "code",
   "execution_count": null,
   "metadata": {},
   "outputs": [],
   "source": [
    "myroot_zucchini_dep = HomeRoots('zucchini', split='location_dependent', percent=0.2, scaled = True)\n",
    "myroot_zucchini_indep = HomeRoots('zucchini', split='location_independent', percent=0.2, scaled = True)"
   ]
  },
  {
   "cell_type": "code",
   "execution_count": null,
   "metadata": {},
   "outputs": [],
   "source": [
    "myroot_tomato_dep = HomeRoots('tomato', split='location_dependent', percent=0.2, scaled = True)\n",
    "myroot_tomato_indep = HomeRoots('tomato', split='location_independent', percent=0.2, scaled = True)"
   ]
  },
  {
   "cell_type": "markdown",
   "metadata": {},
   "source": [
    "#### Actual vs Predicted plots"
   ]
  },
  {
   "cell_type": "markdown",
   "metadata": {},
   "source": [
    "#### Comparison of location dependend and location indipendant train/test split"
   ]
  },
  {
   "cell_type": "code",
   "execution_count": null,
   "metadata": {},
   "outputs": [],
   "source": [
    "df_pred_rf_dep = myroot_tomato_dep.random_forest_model(n_est = 50, max_d = 5, one_spot = test)\n",
    "df_pred_rf_indep = myroot_tomato_indep.random_forest_model(n_est = 50, max_d = 5, one_spot = test)\n",
    "df_pred_lin_dep = myroot_tomato_dep.linear_model(one_spot = test)\n",
    "df_pred_lin_indep = myroot_tomato_indep.linear_model(one_spot = test)"
   ]
  },
  {
   "cell_type": "code",
   "execution_count": null,
   "metadata": {},
   "outputs": [],
   "source": [
    "df_pred_rf_dep = myroot_zucchini_dep.random_forest_model(n_est = 50, max_d = 5, one_spot = None)\n",
    "df_pred_rf_indep = myroot_zucchini_indep.random_forest_model(n_est = 50, max_d = 5, one_spot = None)\n",
    "df_pred_lin_dep = myroot_zucchini_dep.linear_model(one_spot = None)\n",
    "df_pred_lin_indep = myroot_zucchini_indep.linear_model(one_spot = None)"
   ]
  },
  {
   "cell_type": "code",
   "execution_count": null,
   "metadata": {},
   "outputs": [],
   "source": [
    "predicted_actual_plot(df_pred_rf_dep[0])"
   ]
  },
  {
   "cell_type": "code",
   "execution_count": null,
   "metadata": {},
   "outputs": [],
   "source": [
    "predicted_actual_plot(df_pred_rf_indep[0])"
   ]
  },
  {
   "cell_type": "code",
   "execution_count": null,
   "metadata": {},
   "outputs": [],
   "source": [
    "predicted_actual_plot(df_pred_lin_dep[0])"
   ]
  },
  {
   "cell_type": "code",
   "execution_count": null,
   "metadata": {},
   "outputs": [],
   "source": [
    "predicted_actual_plot(df_pred_lin_indep[0])"
   ]
  },
  {
   "cell_type": "markdown",
   "metadata": {},
   "source": [
    "## Group K fold cross validation"
   ]
  },
  {
   "cell_type": "markdown",
   "metadata": {},
   "source": [
    "#### Comparison of error metrics for regression"
   ]
  },
  {
   "cell_type": "code",
   "execution_count": null,
   "metadata": {},
   "outputs": [],
   "source": [
    "cv_tomato_rf = myroot_tomato_dep.group_cv(model='RF', n_estim=50, max_d = 10)       # hight number of data points\n",
    "cv_tomato_lin = myroot_tomato_dep.group_cv(model='lin')"
   ]
  },
  {
   "cell_type": "code",
   "execution_count": null,
   "metadata": {},
   "outputs": [],
   "source": [
    "cv_zucchini_rf = myroot_zucchini_dep.group_cv(model='RF', n_estim=50, max_d = 10)   #low number of data points\n",
    "cv_zucchini_lin = myroot_zucchini_dep.group_cv(model='lin')"
   ]
  },
  {
   "cell_type": "code",
   "execution_count": null,
   "metadata": {},
   "outputs": [],
   "source": [
    " error_plots(cv_tomato_rf)"
   ]
  },
  {
   "cell_type": "code",
   "execution_count": null,
   "metadata": {},
   "outputs": [],
   "source": [
    " error_plots(cv_tomato_lin)"
   ]
  },
  {
   "cell_type": "code",
   "execution_count": null,
   "metadata": {},
   "outputs": [],
   "source": [
    " error_plots(cv_zucchini_rf)"
   ]
  },
  {
   "cell_type": "code",
   "execution_count": null,
   "metadata": {},
   "outputs": [],
   "source": [
    " error_plots(cv_zucchini_lin)"
   ]
  },
  {
   "cell_type": "markdown",
   "metadata": {},
   "source": [
    "Going to use MSE as error meteric. Other error metrics are consistently higher or the same. "
   ]
  },
  {
   "cell_type": "markdown",
   "metadata": {},
   "source": [
    "#### Linear vs Random Forest"
   ]
  },
  {
   "cell_type": "markdown",
   "metadata": {},
   "source": [
    "Linear vs RF for a couple crops. Plot of each K fold iteration erros. They seem to vary depending on the training/CV split so will need to look at average of erros. \n"
   ]
  },
  {
   "cell_type": "code",
   "execution_count": null,
   "metadata": {},
   "outputs": [],
   "source": [
    "compare_models(myroot_tomato_dep, myroot_peppers_dep, myroot_tomato_dep, myroot_peppers_dep, 'RF', 'RF', 'lin', 'lin', 50, 50, None, 10, 10, None)"
   ]
  },
  {
   "cell_type": "code",
   "execution_count": null,
   "metadata": {},
   "outputs": [],
   "source": [
    "crop_compareRF = crop_compare('RF', 50, 10, True)"
   ]
  },
  {
   "cell_type": "code",
   "execution_count": null,
   "metadata": {},
   "outputs": [],
   "source": [
    "crop_comparelin = crop_compare('lin', 50, 20, True)"
   ]
  },
  {
   "cell_type": "code",
   "execution_count": null,
   "metadata": {},
   "outputs": [],
   "source": [
    "veg_rf = pd.DataFrame(data = crop_compareRF[0], index = ['mse']).T.sort_values('mse',ascending = False)\n",
    "veg_rf2 = pd.DataFrame(data = crop_compareRF[1], index = ['mae']).T.sort_values('mae',ascending = False)\n",
    "veg_lin = pd.DataFrame(data = crop_comparelin[0], index = ['mse']).T.sort_values('mse',ascending = False)\n",
    "veg_lin2 = pd.DataFrame(data = crop_comparelin[1], index = ['mae']).T.sort_values('mae',ascending = False)"
   ]
  },
  {
   "cell_type": "code",
   "execution_count": null,
   "metadata": {},
   "outputs": [],
   "source": [
    "subsetrf= veg_rf.loc[['asparagus', 'jalapenos', 'gourd', 'carrots', 'eggplant', 'spinach', 'tomato', 'turnip']]\n",
    "subsetlin =veg_lin.loc[['asparagus', 'jalapenos', 'gourd', 'carrots', 'eggplant', 'spinach', 'tomato', 'turnip']]"
   ]
  },
  {
   "cell_type": "code",
   "execution_count": null,
   "metadata": {},
   "outputs": [],
   "source": [
    "plt.rcParams['figure.figsize']=(10,5)\n",
    "plt.title('Compare Veg Error MSE - RF vs Linear')\n",
    "plt.plot(subsetrf, '^', color = 'green', label ='MSE for RF - n_estim=50, max-depth=10' )\n",
    "plt.plot(subsetlin,'.', color = 'red', label = 'MSE for Linear')\n",
    "plt.xticks(rotation=90)\n",
    "plt.ylabel('Average MSE for Group K-fold CV')\n",
    "plt.yscale('log')\n",
    "plt.savefig('linvsrf.png')\n",
    "plt.legend()\n",
    "plt.show()"
   ]
  },
  {
   "cell_type": "code",
   "execution_count": null,
   "metadata": {},
   "outputs": [],
   "source": [
    "plt.rcParams['figure.figsize']=(20,5)\n",
    "plt.title('Compare Veg Error MSE - RF vs Linear')\n",
    "plt.plot(veg_rf, '.', color = 'red', label ='RF mse - ns=50, maxd=10' )\n",
    "plt.plot(veg_lin,'.', color = 'green', label = 'linear mse')\n",
    "plt.plot(veg_rf2, '^', color = 'red', label ='RF mae - ns=50, maxd=10' )\n",
    "plt.plot(veg_lin2,'^', color = 'green', label = 'linear mae')\n",
    "plt.xticks(rotation=90)\n",
    "plt.ylabel('Average MSE for Group K-fold CV')\n",
    "plt.yscale('log')\n",
    "plt.legend()\n",
    "plt.show()"
   ]
  },
  {
   "cell_type": "code",
   "execution_count": null,
   "metadata": {},
   "outputs": [],
   "source": [
    "mse_vegRF_mean = veg_rf.mean()\n",
    "mae_vegRF_mean = veg_rf2.mean()\n",
    "mse_veglin_mean = veg_lin.mean()\n",
    "mae_veglin_mean = veg_lin2.mean()\n",
    "mse_vegRF_mean, mse_veglin_mean, mae_vegRF_mean,mae_veglin_mean"
   ]
  },
  {
   "cell_type": "markdown",
   "metadata": {},
   "source": [
    "While linear MSE is slightly lower for some vegetables, it is wildly high for others (the ones with lower number of data points). RF seems to give a more stable prediction over all. "
   ]
  },
  {
   "cell_type": "markdown",
   "metadata": {},
   "source": [
    "#### Scaled vs Unscaled features for Random Forest"
   ]
  },
  {
   "cell_type": "code",
   "execution_count": null,
   "metadata": {},
   "outputs": [],
   "source": [
    "veg_rfu = pd.DataFrame(data = crop_compare('RF', 50, 10, False), index = ['mae']).T.sort_values('mae',ascending = True)\n",
    "veg_rfs = pd.DataFrame(data = crop_compare('RF', 50, 10, True), index = ['mae']).T.sort_values('mae',ascending = True)"
   ]
  },
  {
   "cell_type": "code",
   "execution_count": null,
   "metadata": {},
   "outputs": [],
   "source": [
    "veg_rfu.T"
   ]
  },
  {
   "cell_type": "code",
   "execution_count": null,
   "metadata": {},
   "outputs": [],
   "source": [
    "veg_rfs.T"
   ]
  },
  {
   "cell_type": "code",
   "execution_count": null,
   "metadata": {},
   "outputs": [],
   "source": [
    "veg_rfu2 = pd.DataFrame(data = crop_compare('RF', 100, 10, False), index = ['mae']).T.sort_values('mae',ascending = True)\n",
    "veg_rfs2 = pd.DataFrame(data = crop_compare('RF', 100, 10, True), index = ['mae']).T.sort_values('mae',ascending = True)"
   ]
  },
  {
   "cell_type": "code",
   "execution_count": null,
   "metadata": {},
   "outputs": [],
   "source": [
    "plt.rcParams['figure.figsize']=(20,5)\n",
    "plt.title('Compare Veg Error MSE - Scaled vs Unscaled Features')\n",
    "plt.plot(veg_rfu, '^', color = 'red', label ='RF - ns=50, maxd=10 - unscaled' )\n",
    "plt.plot(veg_rfs,'.', color = 'green', label ='RF - ns=50, maxd=10 - scaled')\n",
    "plt.xticks(rotation=90)\n",
    "plt.ylabel('Average MSE for Group K-fold CV')\n",
    "plt.legend()\n",
    "plt.show()"
   ]
  },
  {
   "cell_type": "code",
   "execution_count": null,
   "metadata": {},
   "outputs": [],
   "source": [
    "plt.rcParams['figure.figsize']=(20,5)\n",
    "plt.title('Compare Veg Error MSE - Scaled vs Unscaled Features')\n",
    "plt.plot(veg_rfu2, '^', color = 'red', label ='RF - ns=100, maxd=10 - unscaled' )\n",
    "plt.plot(veg_rfs2,'.', color = 'green', label ='RF - ns=100, maxd=10 - scaled')\n",
    "plt.xticks(rotation=90)\n",
    "plt.ylabel('Average MSE for Group K-fold CV')\n",
    "plt.legend()\n",
    "plt.show()"
   ]
  },
  {
   "cell_type": "markdown",
   "metadata": {},
   "source": [
    "Scaled on average perform worse then unscaled for RF so I will used unscaled in the final app part. "
   ]
  },
  {
   "cell_type": "markdown",
   "metadata": {},
   "source": [
    "#### Optimizing Random Forest parameters - unscaled"
   ]
  },
  {
   "cell_type": "code",
   "execution_count": null,
   "metadata": {},
   "outputs": [],
   "source": [
    "veg_rf1 = pd.DataFrame(data = crop_compare('RF', 100, 10, False)[0], index = ['mae']).T.sort_values('mae',ascending = True)\n",
    "veg_rf2 = pd.DataFrame(data = crop_compare('RF', 50, 10, False)[0], index = ['mae']).T.sort_values('mae',ascending = True)\n",
    "veg_rf3 = pd.DataFrame(data = crop_compare('RF', 30, 10, False)[0], index = ['mae']).T.sort_values('mae',ascending = True)"
   ]
  },
  {
   "cell_type": "code",
   "execution_count": null,
   "metadata": {},
   "outputs": [],
   "source": [
    "veg_rf6 = pd.DataFrame(data = crop_compare('RF', 20, 10, False)[0], index = ['mae']).T.sort_values('mae',ascending = True)\n",
    "veg_rf7 = pd.DataFrame(data = crop_compare('RF', 10, 10, False)[0], index = ['mae']).T.sort_values('mae',ascending = True)"
   ]
  },
  {
   "cell_type": "code",
   "execution_count": null,
   "metadata": {},
   "outputs": [],
   "source": [
    "veg_rf4 = pd.DataFrame(data = crop_compare('RF', 50, 5, False)[0], index = ['mae']).T.sort_values('mae',ascending = True)\n",
    "veg_rf5 = pd.DataFrame(data = crop_compare('RF', 50, 20, False)[0], index = ['mae']).T.sort_values('mae',ascending = True)"
   ]
  },
  {
   "cell_type": "code",
   "execution_count": null,
   "metadata": {},
   "outputs": [],
   "source": [
    "plt.rcParams['figure.figsize']=(20,5)\n",
    "plt.title('Compare Veg Error MSE - RF compare n-estimators')\n",
    "plt.plot(veg_rf3, 's', color = 'red', label ='RF - ns=30, maxd=10' )\n",
    "plt.plot(veg_rf2,'.', color = 'green', label ='RF - ns=50, maxd=10')\n",
    "plt.plot(veg_rf1,'^', color = 'blue', label ='RF - ns=100, maxd=10')\n",
    "plt.xticks(rotation=90)\n",
    "plt.ylabel('Average MSE for Group K-fold CV')\n",
    "plt.legend()\n",
    "plt.show()"
   ]
  },
  {
   "cell_type": "code",
   "execution_count": null,
   "metadata": {},
   "outputs": [],
   "source": [
    "plt.rcParams['figure.figsize']=(20,5)\n",
    "plt.title('Compare Veg Error MSE - RF compare n-estimators')\n",
    "plt.plot(veg_rf3, 's', color = 'red', label ='RF - ns=30, maxd=10' )\n",
    "plt.plot(veg_rf6,'.', color = 'green', label ='RF - ns=20, maxd=10')\n",
    "plt.plot(veg_rf7,'^', color = 'blue', label ='RF - ns=10, maxd=10')\n",
    "plt.xticks(rotation=90)\n",
    "plt.ylabel('Average MSE for Group K-fold CV')\n",
    "plt.legend()\n",
    "plt.show()"
   ]
  },
  {
   "cell_type": "code",
   "execution_count": null,
   "metadata": {},
   "outputs": [],
   "source": [
    "plt.rcParams['figure.figsize']=(20,5)\n",
    "plt.title('Compare Veg Error MSE - RF compare max depth')\n",
    "plt.plot(veg_rf4, 's', color = 'red', label ='RF - ns=50, maxd=5' )\n",
    "plt.plot(veg_rf2,'.', color = 'green', label ='RF - ns=50, maxd=10')\n",
    "plt.plot(veg_rf5,'^', color = 'blue', label ='RF - ns=50, maxd=20')\n",
    "plt.xticks(rotation=90)\n",
    "plt.ylabel('Average MSE for Group K-fold CV')\n",
    "plt.legend()\n",
    "plt.show()"
   ]
  },
  {
   "cell_type": "markdown",
   "metadata": {},
   "source": [
    "Changing maximum depth doesn't seem to change much, but lower n-estimators perform sligthly better for some crops"
   ]
  },
  {
   "cell_type": "markdown",
   "metadata": {},
   "source": [
    "## Prediction Test"
   ]
  },
  {
   "cell_type": "code",
   "execution_count": null,
   "metadata": {},
   "outputs": [],
   "source": [
    "def lin_predict(test_data):\n",
    "    lin_dict_dep = {}\n",
    "    for veg in vegetable:\n",
    "        print(veg)\n",
    "        myroot =   HomeRoots(veg, split='location_dependent', percent=0.2, is_scaled=True )\n",
    "        prediction = myroot.linear_model(one_spot = test_data)\n",
    "        if prediction[2]<1:\n",
    "            lin_dict_dep[veg] = [prediction[-1][0], prediction[2]]\n",
    "    return lin_dict_dep"
   ]
  },
  {
   "cell_type": "code",
   "execution_count": 9,
   "metadata": {},
   "outputs": [],
   "source": [
    "def rf_predict(test_data, n, m, type_crop):\n",
    "    rf_dict_dep = {}\n",
    "    for veg in type_crop:\n",
    "        print(veg)\n",
    "        myroot =   HomeRoots(veg, split='location_dependent', percent=0.2, scaled=False)\n",
    "        prediction = myroot.random_forest_model(n_est = n, max_d = m, one_spot = test_data)\n",
    "        if prediction[2]<0.9:\n",
    "            rf_dict_dep[veg] = [prediction[-1][0], prediction[2]]\n",
    "    return rf_dict_dep"
   ]
  },
  {
   "cell_type": "code",
   "execution_count": 10,
   "metadata": {},
   "outputs": [
    {
     "data": {
      "text/plain": [
       "array([2.89238649e-01, 4.09033831e-02, 9.91640621e-02, 7.79787898e-02,\n",
       "       1.30667177e-02, 4.20720512e-02, 1.66082526e-02, 2.91666667e-01,\n",
       "       1.45833333e-01, 2.29166667e-01, 3.33333333e-01, 2.16948913e-04,\n",
       "       2.05334136e-03, 1.23152709e-01, 1.30169348e-03, 1.10043220e-03,\n",
       "       1.37554025e-03, 6.97290356e-05, 9.76206499e-03, 1.74322589e-04,\n",
       "       3.48645178e-04, 8.36748427e-04, 2.09187107e-03, 1.28557424e-03,\n",
       "       4.03074222e-03, 2.52353563e-03, 5.04707126e-03, 1.59587618e-03,\n",
       "       1.08474456e-04, 2.02297959e-04, 2.04413473e-02, 5.42372282e-04,\n",
       "       2.84586541e-03, 4.87862641e-03, 5.69173081e-03, 3.25241761e-03,\n",
       "       1.62620880e-03, 3.19175236e-04, 1.06391745e-04, 5.19390499e-03,\n",
       "       1.31147541e-02, 5.24590164e-02, 1.96721311e-02, 7.50819858e-03,\n",
       "       2.18989125e-03, 3.12841607e-04, 6.67389501e-03, 9.83575235e-03,\n",
       "       1.61838367e-03, 6.91546345e-03, 1.61290323e-02])"
      ]
     },
     "execution_count": 10,
     "metadata": {},
     "output_type": "execute_result"
    }
   ],
   "source": [
    "HomeRoots('garlic', split='location_dependent', percent=0.2, scaled=False).Y_train"
   ]
  },
  {
   "cell_type": "code",
   "execution_count": 11,
   "metadata": {},
   "outputs": [
    {
     "name": "stdout",
     "output_type": "stream",
     "text": [
      "amaranth\n",
      "(13,)\n",
      "[[0.002603386953540036]]\n",
      "Mean Absolute Error: 0.00178138823234471\n",
      "Mean Squared Error: 3.1733440343362103e-06\n",
      "Root Mean Squared Error: 0.00178138823234471\n",
      "arugula\n",
      "(85,)\n",
      "[[0.002603386953540036]]\n",
      "Mean Absolute Error: 0.014023202112439865\n",
      "Mean Squared Error: 0.0005885968467309273\n",
      "Root Mean Squared Error: 0.024261014956735164\n",
      "asparagus\n",
      "(28,)\n",
      "[[0.002603386953540036]]\n",
      "Mean Absolute Error: 0.005006229447262969\n",
      "Mean Squared Error: 2.51869263840227e-05\n",
      "Root Mean Squared Error: 0.005018657826951614\n",
      "peppers\n",
      "(751,)\n",
      "[[0.002603386953540036]]\n",
      "Mean Absolute Error: 0.010336149369915124\n",
      "Mean Squared Error: 0.00044673600444864115\n",
      "Root Mean Squared Error: 0.0211361303092274\n",
      "beans\n",
      "(417,)\n",
      "[[0.002603386953540036]]\n",
      "Mean Absolute Error: 0.010642937758800836\n",
      "Mean Squared Error: 0.0005932500718798477\n",
      "Root Mean Squared Error: 0.02435672539320193\n",
      "beetroot\n",
      "(142,)\n",
      "[[0.002603386953540036]]\n",
      "Mean Absolute Error: 0.021953643277638737\n",
      "Mean Squared Error: 0.003157681252192499\n",
      "Root Mean Squared Error: 0.05619324916920625\n",
      "peas\n",
      "(115,)\n",
      "[[0.002603386953540036]]\n",
      "Mean Absolute Error: 0.0037968732182736874\n",
      "Mean Squared Error: 2.501673946235879e-05\n",
      "Root Mean Squared Error: 0.0050016736661200505\n",
      "bok choy\n",
      "(39,)\n",
      "[[0.002603386953540036]]\n",
      "Mean Absolute Error: 0.005315408023037982\n",
      "Mean Squared Error: 6.688983549243106e-05\n",
      "Root Mean Squared Error: 0.008178620635072338\n",
      "gourd\n",
      "(8,)\n",
      "[[0.002603386953540036]]\n",
      "Mean Absolute Error: 0.0007499503968411573\n",
      "Mean Squared Error: 5.624255977222092e-07\n",
      "Root Mean Squared Error: 0.0007499503968411573\n",
      "broccoli\n",
      "(134,)\n",
      "[[0.002603386953540036]]\n",
      "Mean Absolute Error: 0.010567215009458257\n",
      "Mean Squared Error: 0.0009804551853508003\n",
      "Root Mean Squared Error: 0.0313122210223229\n",
      "fennel\n",
      "(35,)\n",
      "[[0.002603386953540036]]\n",
      "Mean Absolute Error: 0.00203473724909204\n",
      "Mean Squared Error: 8.318535760490179e-06\n",
      "Root Mean Squared Error: 0.0028841871923455625\n",
      "brussels sprouts\n",
      "(45,)\n",
      "[[0.002603386953540036]]\n",
      "Mean Absolute Error: 0.004799065790285559\n",
      "Mean Squared Error: 8.891945123951721e-05\n",
      "Root Mean Squared Error: 0.009429711089928324\n",
      "squash\n",
      "(303,)\n",
      "[[0.002603386953540036]]\n",
      "Mean Absolute Error: 0.00841289230415947\n",
      "Mean Squared Error: 0.00023495163426930042\n",
      "Root Mean Squared Error: 0.015328132119384294\n",
      "cabbage\n",
      "(154,)\n",
      "[[0.002603386953540036]]\n",
      "Mean Absolute Error: 0.0030671162039101097\n",
      "Mean Squared Error: 6.855845774474482e-05\n",
      "Root Mean Squared Error: 0.008280003487000765\n",
      "carrots\n",
      "(142,)\n",
      "[[0.002603386953540036]]\n",
      "Mean Absolute Error: 0.017887564688051808\n",
      "Mean Squared Error: 0.000870530312708221\n",
      "Root Mean Squared Error: 0.029504750680326396\n",
      "celery\n",
      "(83,)\n",
      "[[0.002603386953540036]]\n",
      "Mean Absolute Error: 0.0038558954401505677\n",
      "Mean Squared Error: 1.6999075189596744e-05\n",
      "Root Mean Squared Error: 0.0041229934743577685\n",
      "chard\n",
      "(224,)\n",
      "[[0.002603386953540036]]\n",
      "Mean Absolute Error: 0.00790833367926512\n",
      "Mean Squared Error: 9.437353551294245e-05\n",
      "Root Mean Squared Error: 0.009714604238616335\n",
      "tomato\n",
      "(922,)\n",
      "[[0.002603386953540036]]\n",
      "Mean Absolute Error: 0.01918049313095011\n",
      "Mean Squared Error: 0.0020108915208995673\n",
      "Root Mean Squared Error: 0.04484296512162825\n",
      "collards\n",
      "(258,)\n",
      "[[0.002603386953540036]]\n",
      "Mean Absolute Error: 0.004904982041610329\n",
      "Mean Squared Error: 0.00010044148752494713\n",
      "Root Mean Squared Error: 0.010022050065976878\n",
      "corn\n",
      "(133,)\n",
      "[[0.002603386953540036]]\n",
      "Mean Absolute Error: 0.010966214878045926\n",
      "Mean Squared Error: 0.0003196028233063563\n",
      "Root Mean Squared Error: 0.017877438947073943\n",
      "cucumbers\n",
      "(233,)\n",
      "[[0.002603386953540036]]\n",
      "Mean Absolute Error: 0.006660875118152547\n",
      "Mean Squared Error: 0.00014431596723372045\n",
      "Root Mean Squared Error: 0.012013158087435645\n",
      "kale\n",
      "(270,)\n",
      "[[0.002603386953540036]]\n",
      "Mean Absolute Error: 0.005013209023069933\n",
      "Mean Squared Error: 6.51016288441676e-05\n",
      "Root Mean Squared Error: 0.008068558039957797\n",
      "eggplant\n",
      "(331,)\n",
      "[[0.002603386953540036]]\n",
      "Mean Absolute Error: 0.006737261338498165\n",
      "Mean Squared Error: 0.00021008862136025173\n",
      "Root Mean Squared Error: 0.014494434151088883\n",
      "garlic\n",
      "(51,)\n",
      "[[0.002603386953540036]]\n",
      "Mean Absolute Error: 0.010319014280309095\n",
      "Mean Squared Error: 0.0002855807577573059\n",
      "Root Mean Squared Error: 0.0168991348227448\n",
      "lettuce\n",
      "(260,)\n",
      "[[0.002603386953540036]]\n",
      "Mean Absolute Error: 0.006352214955979466\n",
      "Mean Squared Error: 0.00010527794432256208\n",
      "Root Mean Squared Error: 0.010260504096902942\n",
      "radish\n",
      "(91,)\n",
      "[[0.002603386953540036]]\n",
      "Mean Absolute Error: 0.014018363026021883\n",
      "Mean Squared Error: 0.001220798411101886\n",
      "Root Mean Squared Error: 0.03493992574551191\n",
      "jalapenos\n",
      "(9,)\n",
      "[[0.002603386953540036]]\n",
      "Mean Absolute Error: 0.01079385001391842\n",
      "Mean Squared Error: 0.00012202616180282275\n",
      "Root Mean Squared Error: 0.011046545242872215\n",
      "kohlrabi\n",
      "(10,)\n",
      "[[0.002603386953540036]]\n",
      "Mean Absolute Error: 0.0014889410843313775\n",
      "Mean Squared Error: 2.2169455526098984e-06\n",
      "Root Mean Squared Error: 0.0014889410843313775\n",
      "leeks\n",
      "(24,)\n",
      "[[0.002603386953540036]]\n",
      "Mean Absolute Error: 0.0009102572063815399\n",
      "Mean Squared Error: 1.2960423041622838e-06\n",
      "Root Mean Squared Error: 0.001138438537718345\n",
      "okra\n",
      "(122,)\n",
      "[[0.002603386953540036]]\n",
      "Mean Absolute Error: 0.0025889893354345416\n",
      "Mean Squared Error: 1.672643289018589e-05\n",
      "Root Mean Squared Error: 0.00408979619176627\n",
      "onion\n",
      "(159,)\n",
      "[[0.002603386953540036]]\n",
      "Mean Absolute Error: 0.012085270806937368\n",
      "Mean Squared Error: 0.0013003699204853637\n",
      "Root Mean Squared Error: 0.03606064226390544\n",
      "potatoes\n",
      "(52,)\n",
      "[[0.002603386953540036]]\n",
      "Mean Absolute Error: 0.011835195921145137\n",
      "Mean Squared Error: 0.00046831898033757063\n",
      "Root Mean Squared Error: 0.021640678832642257\n",
      "pumpkin\n",
      "(8,)\n",
      "[[0.002603386953540036]]\n",
      "Mean Absolute Error: 0.03365310492175955\n",
      "Mean Squared Error: 0.0011325314708749566\n",
      "Root Mean Squared Error: 0.03365310492175955\n",
      "spinach\n",
      "(66,)\n",
      "[[0.002603386953540036]]\n",
      "Mean Absolute Error: 0.007606587209982161\n",
      "Mean Squared Error: 0.0001862880556614884\n",
      "Root Mean Squared Error: 0.0136487382443026\n",
      "sweet potato\n",
      "(22,)\n",
      "[[0.002603386953540036]]\n",
      "Mean Absolute Error: 0.02755892205175456\n",
      "Mean Squared Error: 0.0009749783158591416\n",
      "Root Mean Squared Error: 0.03122464276591714\n",
      "taro\n",
      "(6,)\n",
      "[[0.002603386953540036]]\n",
      "Mean Absolute Error: 0.004544038811603362\n",
      "Mean Squared Error: 2.0648288721357694e-05\n",
      "Root Mean Squared Error: 0.004544038811603362\n",
      "tomatillos\n",
      "(44,)\n",
      "[[0.002603386953540036]]\n",
      "Mean Absolute Error: 0.008558411796619826\n",
      "Mean Squared Error: 0.0004460827028803681\n",
      "Root Mean Squared Error: 0.021120670038622547\n",
      "turnip\n",
      "(22,)\n",
      "[[0.002603386953540036]]\n",
      "Mean Absolute Error: 0.08612606004662608\n",
      "Mean Squared Error: 0.013455792889769481\n",
      "Root Mean Squared Error: 0.11599910728005403\n",
      "zucchini\n",
      "(27,)\n",
      "[[0.002603386953540036]]\n",
      "Mean Absolute Error: 0.0045906377656326006\n",
      "Mean Squared Error: 4.474695939314586e-05\n",
      "Root Mean Squared Error: 0.006689316810642613\n",
      "artichoke\n",
      "(16,)\n",
      "[[0.002603386953540036]]\n",
      "Mean Absolute Error: 0.0008207405560082927\n",
      "Mean Squared Error: 6.736150602768015e-07\n",
      "Root Mean Squared Error: 0.0008207405560082927\n",
      "callaloo\n",
      "(94,)\n",
      "[[0.002603386953540036]]\n",
      "Mean Absolute Error: 0.0032505082808248617\n",
      "Mean Squared Error: 1.5310745209935532e-05\n",
      "Root Mean Squared Error: 0.00391289473535074\n"
     ]
    }
   ],
   "source": [
    "dict_rf_n100veg  = rf_predict(test, 100, 10, vegetable)"
   ]
  },
  {
   "cell_type": "code",
   "execution_count": 12,
   "metadata": {},
   "outputs": [
    {
     "name": "stdout",
     "output_type": "stream",
     "text": [
      "basil\n",
      "(271,)\n",
      "[[0.002603386953540036]]\n",
      "Mean Absolute Error: 0.008953179984486201\n",
      "Mean Squared Error: 0.00015522933020858663\n",
      "Root Mean Squared Error: 0.012459106316609816\n",
      "chives\n",
      "(78,)\n",
      "[[0.002603386953540036]]\n",
      "Mean Absolute Error: 0.0067282838535154136\n",
      "Mean Squared Error: 0.00024913417360242717\n",
      "Root Mean Squared Error: 0.015783984718771973\n",
      "cilantro\n",
      "(66,)\n",
      "[[0.002603386953540036]]\n",
      "Mean Absolute Error: 0.0040579485192684455\n",
      "Mean Squared Error: 2.8166685825904417e-05\n",
      "Root Mean Squared Error: 0.005307229581043618\n",
      "dill\n",
      "(33,)\n",
      "[[0.002603386953540036]]\n",
      "Mean Absolute Error: 0.0051597883377679146\n",
      "Mean Squared Error: 4.01083956770314e-05\n",
      "Root Mean Squared Error: 0.006333118953330294\n",
      "epazote\n",
      "(5,)\n",
      "[[0.002603386953540036]]\n",
      "Mean Absolute Error: 0.002814776278234116\n",
      "Mean Squared Error: 7.922965496509502e-06\n",
      "Root Mean Squared Error: 0.002814776278234116\n",
      "lemon balm\n",
      "(26,)\n",
      "[[0.002603386953540036]]\n",
      "Mean Absolute Error: 0.02420141956075425\n",
      "Mean Squared Error: 0.0017320870266197806\n",
      "Root Mean Squared Error: 0.04161834963834799\n",
      "mint\n",
      "(168,)\n",
      "[[0.002603386953540036]]\n",
      "Mean Absolute Error: 0.005261518637146648\n",
      "Mean Squared Error: 7.37880804203112e-05\n",
      "Root Mean Squared Error: 0.008589998860320715\n",
      "mustard\n",
      "(29,)\n",
      "[[0.002603386953540036]]\n",
      "Mean Absolute Error: 0.0227235370829555\n",
      "Mean Squared Error: 0.0019378635753609977\n",
      "Root Mean Squared Error: 0.044021171898996486\n",
      "oregano\n",
      "(69,)\n",
      "[[0.002603386953540036]]\n",
      "Mean Absolute Error: 0.0033591246863740403\n",
      "Mean Squared Error: 3.2138236178047784e-05\n",
      "Root Mean Squared Error: 0.005669059549700266\n",
      "parsley\n",
      "(126,)\n",
      "[[0.002603386953540036]]\n",
      "Mean Absolute Error: 0.0072881284464332\n",
      "Mean Squared Error: 0.0002924019678848061\n",
      "Root Mean Squared Error: 0.017099765141217763\n",
      "rosemary\n",
      "(53,)\n",
      "[[0.002603386953540036]]\n",
      "Mean Absolute Error: 0.0035019217737525072\n",
      "Mean Squared Error: 2.9076772532052747e-05\n",
      "Root Mean Squared Error: 0.00539228824638045\n",
      "sage\n",
      "(97,)\n",
      "[[0.002603386953540036]]\n",
      "Mean Absolute Error: 0.002470119835192279\n",
      "Mean Squared Error: 1.5436858038482085e-05\n",
      "Root Mean Squared Error: 0.0039289767164596544\n",
      "scallions\n",
      "(38,)\n",
      "[[0.002603386953540036]]\n",
      "Mean Absolute Error: 0.012942991367662558\n",
      "Mean Squared Error: 0.0004329195745621243\n",
      "Root Mean Squared Error: 0.02080671945699572\n",
      "shiso\n",
      "(9,)\n",
      "[[0.002603386953540036]]\n",
      "Mean Absolute Error: 0.0004073200804173868\n",
      "Mean Squared Error: 1.7180958017270537e-07\n",
      "Root Mean Squared Error: 0.0004144991920048884\n",
      "tarragon\n",
      "(7,)\n",
      "[[0.002603386953540036]]\n",
      "Mean Absolute Error: 0.01787516548485512\n",
      "Mean Squared Error: 0.00031952154111095576\n",
      "Root Mean Squared Error: 0.01787516548485512\n",
      "thyme\n",
      "(83,)\n",
      "[[0.002603386953540036]]\n",
      "Mean Absolute Error: 0.0019358321473036345\n",
      "Mean Squared Error: 9.673612978733936e-06\n",
      "Root Mean Squared Error: 0.003110243234657691\n"
     ]
    }
   ],
   "source": [
    "dict_rf_n100herb  = rf_predict(test, 100, 10, herbs)"
   ]
  },
  {
   "cell_type": "code",
   "execution_count": 13,
   "metadata": {},
   "outputs": [
    {
     "name": "stdout",
     "output_type": "stream",
     "text": [
      "apples\n",
      "(30,)\n",
      "[[0.002603386953540036]]\n",
      "Mean Absolute Error: 0.002149018151834613\n",
      "Mean Squared Error: 1.1928880646301515e-05\n",
      "Root Mean Squared Error: 0.0034538211659409226\n",
      "blackberries\n",
      "(19,)\n",
      "[[0.002603386953540036]]\n",
      "Mean Absolute Error: 0.0019379135455996211\n",
      "Mean Squared Error: 5.634509144504236e-06\n",
      "Root Mean Squared Error: 0.002373712102278673\n",
      "cantaloupe\n",
      "(5,)\n",
      "[[0.002603386953540036]]\n",
      "Mean Absolute Error: 0.028697486938962055\n",
      "Mean Squared Error: 0.0008235457566118978\n",
      "Root Mean Squared Error: 0.028697486938962055\n",
      "cherries\n",
      "(13,)\n",
      "[[0.002603386953540036]]\n",
      "Mean Absolute Error: 0.022360994716326226\n",
      "Mean Squared Error: 0.0007456561392066789\n",
      "Root Mean Squared Error: 0.027306705022881815\n",
      "figs\n",
      "(26,)\n",
      "[[0.002603386953540036]]\n",
      "Mean Absolute Error: 0.002060112100157063\n",
      "Mean Squared Error: 8.809858558174436e-06\n",
      "Root Mean Squared Error: 0.002968140589354628\n",
      "grapes\n",
      "(26,)\n",
      "[[0.002603386953540036]]\n",
      "Mean Absolute Error: 0.0007855197624783688\n",
      "Mean Squared Error: 8.964703445389189e-07\n",
      "Root Mean Squared Error: 0.0009468211787549531\n",
      "ground cherry\n",
      "(6,)\n",
      "[[0.002603386953540036]]\n",
      "Mean Absolute Error: 0.010115132721332005\n",
      "Mean Squared Error: 0.00010231590997016142\n",
      "Root Mean Squared Error: 0.010115132721332005\n",
      "melon\n",
      "(113,)\n",
      "[[0.002603386953540036]]\n",
      "Mean Absolute Error: 0.002767715787975931\n",
      "Mean Squared Error: 2.4545979968084002e-05\n",
      "Root Mean Squared Error: 0.004954389969318524\n",
      "mulberry\n",
      "(6,)\n",
      "[[0.002603386953540036]]\n",
      "Mean Absolute Error: 0.0005298366611924242\n",
      "Mean Squared Error: 2.807268875435357e-07\n",
      "Root Mean Squared Error: 0.0005298366611924242\n",
      "peaches\n",
      "(23,)\n",
      "[[0.002603386953540036]]\n",
      "Mean Absolute Error: 0.000679517069958431\n",
      "Mean Squared Error: 8.784985158137825e-07\n",
      "Root Mean Squared Error: 0.0009372825165411881\n",
      "pear\n",
      "(16,)\n",
      "[[0.002603386953540036]]\n",
      "Mean Absolute Error: 0.000988532516006897\n",
      "Mean Squared Error: 1.2476102252283218e-06\n",
      "Root Mean Squared Error: 0.0011169647376834783\n",
      "plums\n",
      "(10,)\n",
      "[[0.002603386953540036]]\n",
      "Mean Absolute Error: 4.526269473359326e-05\n",
      "Mean Squared Error: 2.048711534546451e-09\n",
      "Root Mean Squared Error: 4.526269473359326e-05\n",
      "raspberry\n",
      "(25,)\n",
      "[[0.002603386953540036]]\n",
      "Mean Absolute Error: 0.002193952746013535\n",
      "Mean Squared Error: 8.53929670546686e-06\n",
      "Root Mean Squared Error: 0.00292220750554557\n",
      "rhubarb\n",
      "(12,)\n",
      "[[0.002603386953540036]]\n",
      "Mean Absolute Error: 0.002501123530202038\n",
      "Mean Squared Error: 1.2082126929781463e-05\n",
      "Root Mean Squared Error: 0.0034759354035685795\n",
      "strawberry\n",
      "(172,)\n",
      "[[0.002603386953540036]]\n",
      "Mean Absolute Error: 0.004333192350167002\n",
      "Mean Squared Error: 8.680369462570178e-05\n",
      "Root Mean Squared Error: 0.009316850037738172\n"
     ]
    }
   ],
   "source": [
    "dict_rf_n100fruit  = rf_predict(test, 100, 10, fruit)"
   ]
  },
  {
   "cell_type": "code",
   "execution_count": null,
   "metadata": {},
   "outputs": [],
   "source": [
    "df_dict_rf_n100 = pd.DataFrame(data = dict_rf_n100, index = ['Planting Score','mae']).T.sort_values('Planting Score',ascending = False)"
   ]
  },
  {
   "cell_type": "code",
   "execution_count": null,
   "metadata": {},
   "outputs": [],
   "source": [
    "df_dict_rf_n30 = pd.DataFrame(data = dict_rf_n30, index = ['Planting Score','mae']).T.sort_values('Planting Score',ascending = False)"
   ]
  },
  {
   "cell_type": "code",
   "execution_count": null,
   "metadata": {},
   "outputs": [],
   "source": [
    "\n",
    "df_dict_rf_n100['mae'].mean(), df_dict_rf_n100['mae'].max()"
   ]
  },
  {
   "cell_type": "code",
   "execution_count": null,
   "metadata": {},
   "outputs": [],
   "source": [
    "tot = df_dict_rf_n100['Planting Score'].sum()"
   ]
  },
  {
   "cell_type": "code",
   "execution_count": null,
   "metadata": {},
   "outputs": [],
   "source": [
    "(df_dict_rf_n100['Planting Score'].iloc[0])"
   ]
  },
  {
   "cell_type": "code",
   "execution_count": null,
   "metadata": {},
   "outputs": [],
   "source": [
    "plt.rcParams['figure.figsize']=(20,5)\n",
    "plt.plot(df_dict_rf_n30['mae'],'.', color = 'green', label ='RF - ns=30, maxd=10')\n",
    "plt.plot(df_dict_rf_n10['mae'],'^', color = 'blue', label ='RF - ns=10, maxd=10')\n",
    "plt.legend()\n",
    "plt.xticks(rotation=90)\n",
    "plt.show()"
   ]
  },
  {
   "cell_type": "code",
   "execution_count": null,
   "metadata": {},
   "outputs": [],
   "source": [
    "myroot =   HomeRoots('tomato', split='location_dependent', percent=0.2, is_scaled=False)"
   ]
  },
  {
   "cell_type": "code",
   "execution_count": null,
   "metadata": {},
   "outputs": [],
   "source": [
    "myroot.X_train.shape"
   ]
  },
  {
   "cell_type": "code",
   "execution_count": null,
   "metadata": {},
   "outputs": [],
   "source": [
    "for veg in vegetable:\n",
    "    myroot =   HomeRoots(veg, split='location_dependent', percent=0.2, is_scaled=False)\n",
    "    rf = RandomForestRegressor(n_estimators = 30)\n",
    "    feature_list = weather_features\n",
    "    rf.fit(myroot.X_train, myroot.Y_train)\n",
    "    importances = rf.feature_importances_\n",
    "    feature_importances = pd.DataFrame(importances, index=feature_list,\n",
    "                                   columns=['Importance']).sort_values(by=['Importance'],ascending=False)\n",
    "    num_features = list(range(len(importances)))\n",
    "\n",
    "    plt.figure(figsize=(10, 5))\n",
    "    plt.bar(num_features, importances, orientation = 'vertical', color = '#3d9973',\n",
    "        edgecolor = 'k', linewidth = 1.2)\n",
    "\n",
    "    plt.xticks(num_features, feature_list, rotation='vertical')\n",
    "\n",
    "    plt.ylabel(f'{veg} Importance'); plt.xlabel('Variable'); plt.title(f'Variable Importances - {veg}');\n",
    "    plt.plot()"
   ]
  },
  {
   "cell_type": "code",
   "execution_count": null,
   "metadata": {},
   "outputs": [],
   "source": [
    "df1 = myroot_tomato_dep.test\n",
    "df2= myroot_peppers_dep.test\n",
    "df3= myroot_collards_dep.test\n",
    "df4= myroot_lettuce_dep.test\n",
    "df1zip = df1.index.unique().to_numpy()\n",
    "df2zip = df2.index.unique().to_numpy()\n",
    "df3zip = df3.index.unique().to_numpy()\n",
    "df4zip = df4.index.unique().to_numpy()"
   ]
  },
  {
   "cell_type": "code",
   "execution_count": null,
   "metadata": {},
   "outputs": [],
   "source": [
    "import sys"
   ]
  },
  {
   "cell_type": "code",
   "execution_count": null,
   "metadata": {},
   "outputs": [],
   "source": [
    "sys.version\n"
   ]
  },
  {
   "cell_type": "code",
   "execution_count": null,
   "metadata": {},
   "outputs": [],
   "source": [
    "print('The scikit-learn version is {}.'.format(sklearn.__version__))\n"
   ]
  },
  {
   "cell_type": "code",
   "execution_count": 1,
   "metadata": {},
   "outputs": [
    {
     "data": {
      "text/plain": [
       "'s'"
      ]
     },
     "execution_count": 1,
     "metadata": {},
     "output_type": "execute_result"
    }
   ],
   "source": [
    "a = 'potatoes'\n",
    "a[-1]"
   ]
  },
  {
   "cell_type": "code",
   "execution_count": 2,
   "metadata": {},
   "outputs": [
    {
     "name": "stdout",
     "output_type": "stream",
     "text": [
      "plural\n"
     ]
    }
   ],
   "source": [
    "if a[-1]=='s':\n",
    "    print('plural')"
   ]
  },
  {
   "cell_type": "code",
   "execution_count": null,
   "metadata": {},
   "outputs": [],
   "source": []
  }
 ],
 "metadata": {
  "kernelspec": {
   "display_name": "Python 3",
   "language": "python",
   "name": "python3"
  },
  "language_info": {
   "codemirror_mode": {
    "name": "ipython",
    "version": 3
   },
   "file_extension": ".py",
   "mimetype": "text/x-python",
   "name": "python",
   "nbconvert_exporter": "python",
   "pygments_lexer": "ipython3",
   "version": "3.7.7"
  }
 },
 "nbformat": 4,
 "nbformat_minor": 4
}
